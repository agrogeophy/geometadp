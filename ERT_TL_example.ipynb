{
 "cells": [
  {
   "cell_type": "code",
   "execution_count": null,
   "metadata": {
    "iooxa": {
     "id": {
      "block": "jU9u3BnUYsdEkEfotdlW",
      "project": "jCH2ECjXuEJLCErejFMt",
      "version": 1
     },
     "outputId": {
      "block": "0kYDlH8cvibEaH8CZpeS",
      "project": "jCH2ECjXuEJLCErejFMt",
      "version": 1
     }
    }
   },
   "outputs": [
    {
     "data": {
      "text/html": [
       "<script>Jupyter.notebook.kernel.restart()</script>"
      ]
     },
     "metadata": {},
     "output_type": "display_data"
    }
   ],
   "source": [
    "from IPython.display import display_html\n",
    "def restartkernel() :\n",
    "    display_html(\"<script>Jupyter.notebook.kernel.restart()</script>\",raw=True)\n",
    "restartkernel()\n",
    "import IPython\n",
    "\n",
    "import os \n",
    "os.chdir('../test_ERT_TL/')"
   ]
  },
  {
   "cell_type": "code",
   "execution_count": 1,
   "metadata": {},
   "outputs": [
    {
     "data": {
      "application/vnd.jupyter.widget-view+json": {
       "model_id": "3457568225ac4e119818b4081e0b31ac",
       "version_major": 2,
       "version_minor": 0
      },
      "text/plain": [
       "Tab(children=(VBox(children=(VBox(children=(VBox(children=(Image(value=b'\\x89PNG\\r\\n\\x1a\\n\\x00\\x00\\x00\\rIHDR\\x…"
      ]
     },
     "metadata": {},
     "output_type": "display_data"
    },
    {
     "name": "stdout",
     "output_type": "stream",
     "text": [
      "{\n",
      "\"method\": \"EM\",\n",
      "\"report_title\": \"Short description of the dataset\",\n",
      "\"report_authors\": \"Author 1, Author 2\",\n",
      "\"owner\": \"Owner\",\n",
      "\"email\": \"myemail@gmail.com\",\n",
      "\"dataset_DOI\": \"10.5281/zenodo.4058524\",\n",
      "\"measurement_type\": \"Field\",\n",
      "\"xy_coords_file\": \"C:\\\\Users\\\\Benjamin\\\\Documents\\\\geometadp\\\\test_data\\\\Spatial_data\\\\2dline.csv\",\n",
      "\"instrument\": \"CMD mini explorer\",\n",
      "\"date\": \"2021-04-08\",\n",
      "\"coil_config\": [\n",
      "\"VMD\",\n",
      "\"PRP\",\n",
      "\"HCP\"\n",
      "],\n",
      "\"coil_height\": \"1\",\n",
      "\"em_filename_metadata\": \"C:\\\\Users\\\\Benjamin\\\\Documents\\\\geometadp\\\\test_data\\\\EM_data\\\\EM_test_coverCrop.csv\",\n",
      "\"coil_spacing\": \"0.32;0.71;1.18;0.32;0.71;1.18\",\n",
      "\"description_EM\": \"My EM survey description\",\n",
      "\"time_lapse\": \"False\"\n",
      "}\n",
      "(0, 'method')\n",
      "(1, 'report_title')\n",
      "(2, 'report_authors')\n",
      "(3, 'owner')\n",
      "(4, 'email')\n",
      "(5, 'dataset_DOI')\n",
      "(6, 'measurement_type')\n",
      "(7, 'xy_coords_file')\n"
     ]
    },
    {
     "ename": "KeyError",
     "evalue": "'xy_coords_file'",
     "output_type": "error",
     "traceback": [
      "\u001b[1;31m---------------------------------------------------------------------------\u001b[0m",
      "\u001b[1;31mKeyError\u001b[0m                                  Traceback (most recent call last)",
      "\u001b[1;32m~\\Anaconda3\\lib\\site-packages\\ipyfilechooser\\filechooser.py\u001b[0m in \u001b[0;36m_on_select_click\u001b[1;34m(self, _b)\u001b[0m\n\u001b[0;32m    317\u001b[0m             \u001b[1;32mif\u001b[0m \u001b[0mself\u001b[0m\u001b[1;33m.\u001b[0m\u001b[0m_callback\u001b[0m \u001b[1;32mis\u001b[0m \u001b[1;32mnot\u001b[0m \u001b[1;32mNone\u001b[0m\u001b[1;33m:\u001b[0m\u001b[1;33m\u001b[0m\u001b[1;33m\u001b[0m\u001b[0m\n\u001b[0;32m    318\u001b[0m                 \u001b[1;32mtry\u001b[0m\u001b[1;33m:\u001b[0m\u001b[1;33m\u001b[0m\u001b[1;33m\u001b[0m\u001b[0m\n\u001b[1;32m--> 319\u001b[1;33m                     \u001b[0mself\u001b[0m\u001b[1;33m.\u001b[0m\u001b[0m_callback\u001b[0m\u001b[1;33m(\u001b[0m\u001b[0mself\u001b[0m\u001b[1;33m)\u001b[0m\u001b[1;33m\u001b[0m\u001b[1;33m\u001b[0m\u001b[0m\n\u001b[0m\u001b[0;32m    320\u001b[0m                 \u001b[1;32mexcept\u001b[0m \u001b[0mTypeError\u001b[0m\u001b[1;33m:\u001b[0m\u001b[1;33m\u001b[0m\u001b[1;33m\u001b[0m\u001b[0m\n\u001b[0;32m    321\u001b[0m                     \u001b[1;31m# Support previous behaviour of not passing self\u001b[0m\u001b[1;33m\u001b[0m\u001b[1;33m\u001b[0m\u001b[1;33m\u001b[0m\u001b[0m\n",
      "\u001b[1;32m~\\Documents\\Z_Database\\geometadp\\lib\\geometadp\\md_manager.py\u001b[0m in \u001b[0;36mon_upload_change\u001b[1;34m(change)\u001b[0m\n\u001b[0;32m   2408\u001b[0m                     \u001b[0mself\u001b[0m\u001b[1;33m.\u001b[0m\u001b[0mdata_uploaded\u001b[0m \u001b[1;33m=\u001b[0m \u001b[0mjson\u001b[0m\u001b[1;33m.\u001b[0m\u001b[0mload\u001b[0m\u001b[1;33m(\u001b[0m\u001b[0mjson_file\u001b[0m\u001b[1;33m)\u001b[0m\u001b[1;33m\u001b[0m\u001b[1;33m\u001b[0m\u001b[0m\n\u001b[0;32m   2409\u001b[0m \u001b[1;33m\u001b[0m\u001b[0m\n\u001b[1;32m-> 2410\u001b[1;33m             \u001b[0mself\u001b[0m\u001b[1;33m.\u001b[0m\u001b[0m_update_fields_values_JSON\u001b[0m\u001b[1;33m(\u001b[0m\u001b[1;33m)\u001b[0m\u001b[1;33m\u001b[0m\u001b[1;33m\u001b[0m\u001b[0m\n\u001b[0m\u001b[0;32m   2411\u001b[0m \u001b[1;33m\u001b[0m\u001b[0m\n\u001b[0;32m   2412\u001b[0m        \u001b[0mself\u001b[0m\u001b[1;33m.\u001b[0m\u001b[0mjson_upload\u001b[0m\u001b[1;33m.\u001b[0m\u001b[0mregister_callback\u001b[0m\u001b[1;33m(\u001b[0m\u001b[0mon_upload_change\u001b[0m\u001b[1;33m)\u001b[0m\u001b[1;33m\u001b[0m\u001b[1;33m\u001b[0m\u001b[0m\n",
      "\u001b[1;32m~\\Documents\\Z_Database\\geometadp\\lib\\geometadp\\md_manager.py\u001b[0m in \u001b[0;36m_update_fields_values_JSON\u001b[1;34m(self)\u001b[0m\n\u001b[0;32m   2451\u001b[0m                     \u001b[0mwidget2fill\u001b[0m\u001b[1;33m.\u001b[0m\u001b[0mvalue\u001b[0m \u001b[1;33m=\u001b[0m \u001b[0mdate_time_obj\u001b[0m\u001b[1;33m\u001b[0m\u001b[1;33m\u001b[0m\u001b[0m\n\u001b[0;32m   2452\u001b[0m                \u001b[1;32melif\u001b[0m \u001b[1;34m\"file\"\u001b[0m \u001b[1;32min\u001b[0m \u001b[0mi\u001b[0m\u001b[1;33m[\u001b[0m\u001b[1;36m1\u001b[0m\u001b[1;33m]\u001b[0m\u001b[1;33m:\u001b[0m\u001b[1;33m\u001b[0m\u001b[1;33m\u001b[0m\u001b[0m\n\u001b[1;32m-> 2453\u001b[1;33m                     \u001b[0mpath\u001b[0m \u001b[1;33m,\u001b[0m \u001b[0mfile\u001b[0m \u001b[1;33m=\u001b[0m \u001b[0mos\u001b[0m\u001b[1;33m.\u001b[0m\u001b[0mpath\u001b[0m\u001b[1;33m.\u001b[0m\u001b[0msplit\u001b[0m\u001b[1;33m(\u001b[0m\u001b[0mself\u001b[0m\u001b[1;33m.\u001b[0m\u001b[0mmetadata\u001b[0m\u001b[1;33m[\u001b[0m\u001b[0mi\u001b[0m\u001b[1;33m[\u001b[0m\u001b[1;36m1\u001b[0m\u001b[1;33m]\u001b[0m\u001b[1;33m]\u001b[0m\u001b[1;33m)\u001b[0m\u001b[1;33m\u001b[0m\u001b[1;33m\u001b[0m\u001b[0m\n\u001b[0m\u001b[0;32m   2454\u001b[0m                     \u001b[0mwidget2fill\u001b[0m\u001b[1;33m.\u001b[0m\u001b[0mreset\u001b[0m\u001b[1;33m(\u001b[0m\u001b[0mpath\u001b[0m\u001b[1;33m=\u001b[0m\u001b[0mpath\u001b[0m\u001b[1;33m,\u001b[0m \u001b[0mfilename\u001b[0m\u001b[1;33m=\u001b[0m\u001b[0mfile\u001b[0m\u001b[1;33m)\u001b[0m\u001b[1;33m\u001b[0m\u001b[1;33m\u001b[0m\u001b[0m\n\u001b[0;32m   2455\u001b[0m                \u001b[1;32melse\u001b[0m\u001b[1;33m:\u001b[0m\u001b[1;33m\u001b[0m\u001b[1;33m\u001b[0m\u001b[0m\n",
      "\u001b[1;31mKeyError\u001b[0m: 'xy_coords_file'"
     ]
    },
    {
     "name": "stdout",
     "output_type": "stream",
     "text": [
      "{\n",
      "\"method\": \"EM\",\n",
      "\"report_title\": \"Short description of the dataset\",\n",
      "\"report_authors\": \"Author 1, Author 2\",\n",
      "\"owner\": \"Owner\",\n",
      "\"email\": \"myemail@gmail.com\",\n",
      "\"dataset_DOI\": \"10.5281/zenodo.4058524\",\n",
      "\"measurement_type\": \"Field\",\n",
      "\"xy_coords_file\": \"C:\\\\Users\\\\Benjamin\\\\Documents\\\\geometadp\\\\test_data\\\\Spatial_data\\\\2dline.csv\",\n",
      "\"instrument\": \"CMD mini explorer\",\n",
      "\"date\": \"2021-04-08\",\n",
      "\"coil_config\": [\n",
      "\"VMD\",\n",
      "\"PRP\",\n",
      "\"HCP\"\n",
      "],\n",
      "\"coil_height\": \"1\",\n",
      "\"em_file\": \"C:\\\\Users\\\\Benjamin\\\\Documents\\\\geometadp\\\\test_data\\\\EM_data\\\\EM_test_coverCrop.csv\",\n",
      "\"coil_spacing\": \"0.32;0.71;1.18;0.32;0.71;1.18\",\n",
      "\"description_EM\": \"My EM survey description\",\n",
      "\"time_lapse\": \"False\"\n",
      "}\n",
      "(0, 'method')\n",
      "(1, 'report_title')\n",
      "(2, 'report_authors')\n",
      "(3, 'owner')\n",
      "(4, 'email')\n",
      "(5, 'dataset_DOI')\n",
      "(6, 'measurement_type')\n",
      "(7, 'xy_coords_file')\n"
     ]
    },
    {
     "ename": "KeyError",
     "evalue": "'xy_coords_file'",
     "output_type": "error",
     "traceback": [
      "\u001b[1;31m---------------------------------------------------------------------------\u001b[0m",
      "\u001b[1;31mKeyError\u001b[0m                                  Traceback (most recent call last)",
      "\u001b[1;32m~\\Anaconda3\\lib\\site-packages\\ipyfilechooser\\filechooser.py\u001b[0m in \u001b[0;36m_on_select_click\u001b[1;34m(self, _b)\u001b[0m\n\u001b[0;32m    317\u001b[0m             \u001b[1;32mif\u001b[0m \u001b[0mself\u001b[0m\u001b[1;33m.\u001b[0m\u001b[0m_callback\u001b[0m \u001b[1;32mis\u001b[0m \u001b[1;32mnot\u001b[0m \u001b[1;32mNone\u001b[0m\u001b[1;33m:\u001b[0m\u001b[1;33m\u001b[0m\u001b[1;33m\u001b[0m\u001b[0m\n\u001b[0;32m    318\u001b[0m                 \u001b[1;32mtry\u001b[0m\u001b[1;33m:\u001b[0m\u001b[1;33m\u001b[0m\u001b[1;33m\u001b[0m\u001b[0m\n\u001b[1;32m--> 319\u001b[1;33m                     \u001b[0mself\u001b[0m\u001b[1;33m.\u001b[0m\u001b[0m_callback\u001b[0m\u001b[1;33m(\u001b[0m\u001b[0mself\u001b[0m\u001b[1;33m)\u001b[0m\u001b[1;33m\u001b[0m\u001b[1;33m\u001b[0m\u001b[0m\n\u001b[0m\u001b[0;32m    320\u001b[0m                 \u001b[1;32mexcept\u001b[0m \u001b[0mTypeError\u001b[0m\u001b[1;33m:\u001b[0m\u001b[1;33m\u001b[0m\u001b[1;33m\u001b[0m\u001b[0m\n\u001b[0;32m    321\u001b[0m                     \u001b[1;31m# Support previous behaviour of not passing self\u001b[0m\u001b[1;33m\u001b[0m\u001b[1;33m\u001b[0m\u001b[1;33m\u001b[0m\u001b[0m\n",
      "\u001b[1;32m~\\Documents\\Z_Database\\geometadp\\lib\\geometadp\\md_manager.py\u001b[0m in \u001b[0;36mon_upload_change\u001b[1;34m(change)\u001b[0m\n\u001b[0;32m   2408\u001b[0m                     \u001b[0mself\u001b[0m\u001b[1;33m.\u001b[0m\u001b[0mdata_uploaded\u001b[0m \u001b[1;33m=\u001b[0m \u001b[0mjson\u001b[0m\u001b[1;33m.\u001b[0m\u001b[0mload\u001b[0m\u001b[1;33m(\u001b[0m\u001b[0mjson_file\u001b[0m\u001b[1;33m)\u001b[0m\u001b[1;33m\u001b[0m\u001b[1;33m\u001b[0m\u001b[0m\n\u001b[0;32m   2409\u001b[0m \u001b[1;33m\u001b[0m\u001b[0m\n\u001b[1;32m-> 2410\u001b[1;33m             \u001b[0mself\u001b[0m\u001b[1;33m.\u001b[0m\u001b[0m_update_fields_values_JSON\u001b[0m\u001b[1;33m(\u001b[0m\u001b[1;33m)\u001b[0m\u001b[1;33m\u001b[0m\u001b[1;33m\u001b[0m\u001b[0m\n\u001b[0m\u001b[0;32m   2411\u001b[0m \u001b[1;33m\u001b[0m\u001b[0m\n\u001b[0;32m   2412\u001b[0m        \u001b[0mself\u001b[0m\u001b[1;33m.\u001b[0m\u001b[0mjson_upload\u001b[0m\u001b[1;33m.\u001b[0m\u001b[0mregister_callback\u001b[0m\u001b[1;33m(\u001b[0m\u001b[0mon_upload_change\u001b[0m\u001b[1;33m)\u001b[0m\u001b[1;33m\u001b[0m\u001b[1;33m\u001b[0m\u001b[0m\n",
      "\u001b[1;32m~\\Documents\\Z_Database\\geometadp\\lib\\geometadp\\md_manager.py\u001b[0m in \u001b[0;36m_update_fields_values_JSON\u001b[1;34m(self)\u001b[0m\n\u001b[0;32m   2451\u001b[0m                     \u001b[0mwidget2fill\u001b[0m\u001b[1;33m.\u001b[0m\u001b[0mvalue\u001b[0m \u001b[1;33m=\u001b[0m \u001b[0mdate_time_obj\u001b[0m\u001b[1;33m\u001b[0m\u001b[1;33m\u001b[0m\u001b[0m\n\u001b[0;32m   2452\u001b[0m                \u001b[1;32melif\u001b[0m \u001b[1;34m\"file\"\u001b[0m \u001b[1;32min\u001b[0m \u001b[0mi\u001b[0m\u001b[1;33m[\u001b[0m\u001b[1;36m1\u001b[0m\u001b[1;33m]\u001b[0m\u001b[1;33m:\u001b[0m\u001b[1;33m\u001b[0m\u001b[1;33m\u001b[0m\u001b[0m\n\u001b[1;32m-> 2453\u001b[1;33m                     \u001b[0mpath\u001b[0m \u001b[1;33m,\u001b[0m \u001b[0mfile\u001b[0m \u001b[1;33m=\u001b[0m \u001b[0mos\u001b[0m\u001b[1;33m.\u001b[0m\u001b[0mpath\u001b[0m\u001b[1;33m.\u001b[0m\u001b[0msplit\u001b[0m\u001b[1;33m(\u001b[0m\u001b[0mself\u001b[0m\u001b[1;33m.\u001b[0m\u001b[0mmetadata\u001b[0m\u001b[1;33m[\u001b[0m\u001b[0mi\u001b[0m\u001b[1;33m[\u001b[0m\u001b[1;36m1\u001b[0m\u001b[1;33m]\u001b[0m\u001b[1;33m]\u001b[0m\u001b[1;33m)\u001b[0m\u001b[1;33m\u001b[0m\u001b[1;33m\u001b[0m\u001b[0m\n\u001b[0m\u001b[0;32m   2454\u001b[0m                     \u001b[0mwidget2fill\u001b[0m\u001b[1;33m.\u001b[0m\u001b[0mreset\u001b[0m\u001b[1;33m(\u001b[0m\u001b[0mpath\u001b[0m\u001b[1;33m=\u001b[0m\u001b[0mpath\u001b[0m\u001b[1;33m,\u001b[0m \u001b[0mfilename\u001b[0m\u001b[1;33m=\u001b[0m\u001b[0mfile\u001b[0m\u001b[1;33m)\u001b[0m\u001b[1;33m\u001b[0m\u001b[1;33m\u001b[0m\u001b[0m\n\u001b[0;32m   2455\u001b[0m                \u001b[1;32melse\u001b[0m\u001b[1;33m:\u001b[0m\u001b[1;33m\u001b[0m\u001b[1;33m\u001b[0m\u001b[0m\n",
      "\u001b[1;31mKeyError\u001b[0m: 'xy_coords_file'"
     ]
    }
   ],
   "source": [
    "from lib.geometadp import md_manager\n",
    "obj = md_manager.geo_metadata()\n",
    "obj.manage()"
   ]
  },
  {
   "cell_type": "code",
   "execution_count": null,
   "metadata": {},
   "outputs": [],
   "source": []
  },
  {
   "cell_type": "code",
   "execution_count": null,
   "metadata": {},
   "outputs": [],
   "source": []
  },
  {
   "cell_type": "code",
   "execution_count": null,
   "metadata": {},
   "outputs": [],
   "source": []
  }
 ],
 "metadata": {
  "iooxa": {
   "id": {
    "block": "eu3RjRpML4oHvtjcrAZu",
    "project": "jCH2ECjXuEJLCErejFMt",
    "version": 1
   }
  },
  "kernelspec": {
   "display_name": "Python 3",
   "language": "python",
   "name": "python3"
  },
  "language_info": {
   "codemirror_mode": {
    "name": "ipython",
    "version": 3
   },
   "file_extension": ".py",
   "mimetype": "text/x-python",
   "name": "python",
   "nbconvert_exporter": "python",
   "pygments_lexer": "ipython3",
   "version": "3.8.5"
  }
 },
 "nbformat": 4,
 "nbformat_minor": 4
}
