{
 "cells": [
  {
   "cell_type": "code",
   "execution_count": 6,
   "metadata": {},
   "outputs": [
    {
     "data": {
      "text/plain": [
       "0"
      ]
     },
     "execution_count": 6,
     "metadata": {},
     "output_type": "execute_result"
    }
   ],
   "source": [
    "import h5py\n",
    "h5py.run_tests()"
   ]
  },
  {
   "cell_type": "code",
   "execution_count": 2,
   "metadata": {},
   "outputs": [
    {
     "name": "stdout",
     "output_type": "stream",
     "text": [
      "Writing data...\n",
      "Reading data back...\n",
      "Printing data...\n",
      "[[ 1  2  3  4  5  6]\n",
      " [ 7  8  9 10 11 12]\n",
      " [13 14 15 16 17 18]\n",
      " [19 20 21 22 23 24]]\n"
     ]
    }
   ],
   "source": [
    "#\n",
    "# This example writes data to the existing empty dataset created by h5_crtdat.py and then reads it back.\n",
    "#\n",
    "import h5py\n",
    "import numpy as np\n",
    "#\n",
    "# Open an existing file using default properties.\n",
    "#\n",
    "file = h5py.File('dset.h5','r+')\n",
    "#\n",
    "# Open \"dset\" dataset under the root group.\n",
    "#\n",
    "dataset = file['/dset']\n",
    "#\n",
    "# Initialize data object with 0.\n",
    "#\n",
    "data = np.zeros((4,6))\n",
    "#\n",
    "# Assign new values\n",
    "#\n",
    "for i in range(4):\n",
    "    for j in range(6):\n",
    "        data[i][j]= i*6+j+1\t \n",
    "#\n",
    "# Write data\n",
    "#\n",
    "print(\"Writing data...\")\n",
    "dataset[...] = data\n",
    "#\n",
    "# Read data back and print it.\n",
    "#\n",
    "print(\"Reading data back...\")\n",
    "data_read = dataset[...]\n",
    "print(\"Printing data...\")\n",
    "print(data_read)\n",
    "#\n",
    "# Close the file before exiting\n",
    "#\n",
    "file.close()\n"
   ]
  },
  {
   "cell_type": "code",
   "execution_count": 4,
   "metadata": {},
   "outputs": [],
   "source": [
    "#\n",
    "# This examaple creates and writes two attributes on the \"dset\" dataset created by h5_crtdat.py.\n",
    "#\n",
    "import h5py\n",
    "import numpy as np\n",
    "#\n",
    "# Open an existing file using defaut properties.\n",
    "#\n",
    "file = h5py.File('dset.h5','r+')\n",
    "#\n",
    "# Open \"dset\" dataset.\n",
    "#\n",
    "dataset = file['/dset']\n",
    "#\n",
    "# Create string attribute.\n",
    "#\n",
    "attr_string = \"Meter per second\"\n",
    "dataset.attrs[\"Units\"] = attr_string\n",
    "#\n",
    "# Create integer array attribute.\n",
    "#\n",
    "attr_data = np.zeros((2))\n",
    "attr_data[0] = 100\n",
    "attr_data[1] = 200\n",
    "#\n",
    "#\n",
    "dataset.attrs.create(\"Speed\", attr_data, (2,), h5py.h5t.STD_I32BE)\n",
    "#\n",
    "# Close the file before exiting\n",
    "#\n",
    "file.close()\n"
   ]
  },
  {
   "cell_type": "code",
   "execution_count": 5,
   "metadata": {},
   "outputs": [
    {
     "name": "stdout",
     "output_type": "stream",
     "text": [
      "Creating an HDF5 file with the name group.h5...\n",
      "When an HDF5 file is created, it has a Root group with the name ' / '.\n",
      "Creating a group MyGroup in the file...\n",
      "An HDF5 group is a container for other objects; a group is similar to Python dictionary with the keys being the links to the group members.\n",
      "Show the members of the Root group using dictionary key method: ['MyGroup']\n",
      "Show the members of the Root group using the list function: ['MyGroup']\n"
     ]
    }
   ],
   "source": [
    "#\n",
    "# This example creates an HDF5 file group.h5 and a group MyGroup in it \n",
    "# using H5Py interfaces to the HDF5 library. \n",
    "#\n",
    "import sys\n",
    "import h5py\n",
    "\n",
    "# Uncomment the next line if you want to save the output from this script to a file named \"out\".\n",
    "#sys.stdout = open('out', 'w')\n",
    "#\n",
    "# Use 'w' to remove existing file and create a new one; use 'w-' if\n",
    "# create operation should fail when the file already exists.\n",
    "#\n",
    "print(\"Creating an HDF5 file with the name group.h5...\")\n",
    "file = h5py.File('group.h5','w')\n",
    "#\n",
    "# Show the Root group which is created when the file is created.\n",
    "#\n",
    "print(\"When an HDF5 file is created, it has a Root group with the name '\",file.name,\"'.\")\n",
    "#\n",
    "# Create a group with the name \"MyGroup\"\n",
    "#\n",
    "print(\"Creating a group MyGroup in the file...\")\n",
    "group = file.create_group(\"MyGroup\")\n",
    "# \n",
    "# Print the content of the Root group\n",
    "#\n",
    "print(\"An HDF5 group is a container for other objects; a group is similar to Python dictionary with the keys being the links to the group members.\")\n",
    "print(\"Show the members of the Root group using dictionary key method:\", list(file.keys()))\n",
    "#\n",
    "# Another way to show the content of the Root group.\n",
    "print(\"Show the members of the Root group using the list function:\", list(file))\n",
    "#\n",
    "# Close the file before exiting; H5Py will close the group.\n",
    "#\n",
    "file.close()\n"
   ]
  }
 ],
 "metadata": {
  "kernelspec": {
   "display_name": "Python 3",
   "language": "python",
   "name": "python3"
  },
  "language_info": {
   "codemirror_mode": {
    "name": "ipython",
    "version": 3
   },
   "file_extension": ".py",
   "mimetype": "text/x-python",
   "name": "python",
   "nbconvert_exporter": "python",
   "pygments_lexer": "ipython3",
   "version": "3.8.5"
  }
 },
 "nbformat": 4,
 "nbformat_minor": 4
}
