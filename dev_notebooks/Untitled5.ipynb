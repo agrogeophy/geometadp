{
 "cells": [
  {
   "cell_type": "code",
   "execution_count": 27,
   "metadata": {},
   "outputs": [
    {
     "data": {
      "text/plain": [
       "[0, 'a', 'b', 1, 'a', 'b', 2, 'a', 'b']"
      ]
     },
     "execution_count": 27,
     "metadata": {},
     "output_type": "execute_result"
    }
   ],
   "source": [
    "import numpy as np\n",
    "list_test = [[],[]]\n",
    "for i in range(2):\n",
    "    for j in range(3):\n",
    "        list_test[i].append(j)\n",
    "        for k in enumerate(['a','b']):\n",
    "            list_test[i].append(k[1])\n",
    "list_test\n",
    "list_test[0]"
   ]
  },
  {
   "cell_type": "code",
   "execution_count": 28,
   "metadata": {},
   "outputs": [
    {
     "data": {
      "application/vnd.jupyter.widget-view+json": {
       "model_id": "89336af75c894488ba79a1079643ce56",
       "version_major": 2,
       "version_minor": 0
      },
      "text/plain": [
       "VBox(children=(Tab(children=(Label(value='tab1'), Label(value='tab2'), Label(value='tab3'), Label(value='tab4'…"
      ]
     },
     "metadata": {},
     "output_type": "display_data"
    },
    {
     "name": "stdout",
     "output_type": "stream",
     "text": [
      "selected index: 1\n",
      "selected index: 2\n",
      "selected index: 3\n",
      "selected index: 0\n"
     ]
    }
   ],
   "source": [
    "import ipywidgets\n",
    "\n",
    "tabs = ipywidgets.Tab()\n",
    "tabs.children = [ipywidgets.Label(value='tab1'), ipywidgets.Label(value='tab2'), ipywidgets.Label(value='tab3'), ipywidgets.Label(value='tab4')]\n",
    "tabs.observe(lambda change: print(f\"selected index: {change['new']}\") , names='selected_index')\n",
    "\n",
    "def change_children(_):\n",
    "    id = tabs.selected_index\n",
    "    tabs.selected_index = None   # Warning : this will emit a change event\n",
    "    tabs.children = [ipywidgets.Label(value='tab1'), ipywidgets.Label(value='tab2'), ipywidgets.Label(value='tab3'), ipywidgets.Label(value='tab4')]\n",
    "    tabs.selected_index = id\n",
    "\n",
    "btn = ipywidgets.Button(description='change_children')\n",
    "btn.on_click(change_children)\n",
    "\n",
    "ipywidgets.VBox([tabs, btn])"
   ]
  },
  {
   "cell_type": "code",
   "execution_count": 35,
   "metadata": {},
   "outputs": [
    {
     "data": {
      "text/plain": [
       "array([0, 1, 2, 3, 5])"
      ]
     },
     "execution_count": 35,
     "metadata": {},
     "output_type": "execute_result"
    }
   ],
   "source": [
    "id2rmv=4\n",
    "test= np.arange(0,6)\n",
    "np.delete(test,id2rmv)\n"
   ]
  },
  {
   "cell_type": "code",
   "execution_count": null,
   "metadata": {},
   "outputs": [],
   "source": []
  }
 ],
 "metadata": {
  "kernelspec": {
   "display_name": "Python 3",
   "language": "python",
   "name": "python3"
  },
  "language_info": {
   "codemirror_mode": {
    "name": "ipython",
    "version": 3
   },
   "file_extension": ".py",
   "mimetype": "text/x-python",
   "name": "python",
   "nbconvert_exporter": "python",
   "pygments_lexer": "ipython3",
   "version": "3.8.5"
  }
 },
 "nbformat": 4,
 "nbformat_minor": 4
}
