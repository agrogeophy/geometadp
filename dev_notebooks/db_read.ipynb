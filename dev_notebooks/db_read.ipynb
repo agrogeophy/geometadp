{
 "cells": [
  {
   "cell_type": "code",
   "execution_count": 1,
   "metadata": {},
   "outputs": [
    {
     "data": {
      "application/vnd.jupyter.widget-view+json": {
       "model_id": "78e03174409249e88ae4c5bd2777f241",
       "version_major": 2,
       "version_minor": 0
      },
      "text/plain": [
       "Dropdown(description='instrument:   ', options=('Peer reviewed publication', 'Book', 'Notebook'), value='Peer …"
      ]
     },
     "metadata": {},
     "output_type": "display_data"
    }
   ],
   "source": [
    "import datetime\n",
    "import numpy as np\n",
    "import pandas as pd\n",
    "\n",
    "from ipywidgets import widgets\n",
    "\n",
    "\n",
    "\"\"\"\n",
    "db tab\n",
    "\"\"\"\n",
    "\n",
    "df = pd.read_csv(\n",
    "    'https://raw.githubusercontent.com/agrogeophy/catalog/master/db.csv')\n",
    "#df = df.drop(df.columns[[0]], axis=1)\n",
    "\n",
    "df['contribution_type'].unique().tolist()\n",
    "\n",
    "textbox = widgets.Dropdown(\n",
    "    description='instrument:   ',\n",
    "    options=df['contribution_type'].unique().tolist(),\n",
    "    disabled=False\n",
    ")\n",
    "\n",
    "display(textbox)"
   ]
  }
 ],
 "metadata": {
  "kernelspec": {
   "display_name": "Python 3",
   "language": "python",
   "name": "python3"
  },
  "language_info": {
   "codemirror_mode": {
    "name": "ipython",
    "version": 3
   },
   "file_extension": ".py",
   "mimetype": "text/x-python",
   "name": "python",
   "nbconvert_exporter": "python",
   "pygments_lexer": "ipython3",
   "version": "3.8.5"
  }
 },
 "nbformat": 4,
 "nbformat_minor": 4
}
